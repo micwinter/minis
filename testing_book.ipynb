{
 "cells": [
  {
   "cell_type": "markdown",
   "metadata": {},
   "source": [
    "Write a program that prints out the numbers 1 to 100 (inclusive).\n",
    "If the number is divisible by 3, print Crackle instead of the number.\n",
    "If it's divisible by 5, print Pop. If it's divisible by both 3 and 5,\n",
    "print CracklePop."
   ]
  },
  {
   "cell_type": "code",
   "execution_count": 12,
   "metadata": {},
   "outputs": [],
   "source": [
    "# import pytest\n",
    "\n",
    "def cracklepop_determiner(number):\n",
    "    print_statement = ''\n",
    "    if number % 3 == 0: \n",
    "        print_statement = 'Crackle'\n",
    "\n",
    "    if number % 5 == 0:\n",
    "        print_statement = 'Pop'\n",
    "\n",
    "    if (number % 3 == 0) and (number % 5 == 0):\n",
    "        print_statement = 'CracklePop'\n",
    "\n",
    "    if print_statement == '':\n",
    "        print_statement = str(number)\n",
    "    return print_statement\n",
    "\n",
    "def cracklepop():\n",
    "    for ii in range(1,101):\n",
    "        print_statement = cracklepop_determiner(ii)\n",
    "        print(print_statement)\n",
    "\n",
    "def cracklepop_test():\n",
    "\n",
    "    assert cracklepop_determiner(3) == 'Crackle'\n",
    "\n",
    "    assert cracklepop_determiner(5) == 'Pop'\n",
    "\n",
    "    assert cracklepop_determiner(3*5) == 'CracklePop'\n",
    "\n",
    "    assert cracklepop_determiner(1) == '1'\n",
    "\n",
    "\n",
    "\n",
    "# cracklepop()\n",
    "cracklepop_test()"
   ]
  },
  {
   "cell_type": "code",
   "execution_count": 4,
   "metadata": {},
   "outputs": [
    {
     "data": {
      "text/plain": [
       "[1, 2, 3]"
      ]
     },
     "execution_count": 4,
     "metadata": {},
     "output_type": "execute_result"
    }
   ],
   "source": [
    "[x for x in range(1, 4)]"
   ]
  },
  {
   "cell_type": "markdown",
   "metadata": {},
   "source": [
    "Connect Four"
   ]
  },
  {
   "cell_type": "code",
   "execution_count": 3,
   "metadata": {},
   "outputs": [
    {
     "data": {
      "text/plain": [
       "array([['.', '.', '.', '.', '.', '.', '.'],\n",
       "       ['.', '.', '.', '.', '.', '.', '.'],\n",
       "       ['.', '.', '.', '.', '.', '.', '.'],\n",
       "       ['.', '.', '.', '.', '.', '.', '.'],\n",
       "       ['.', '.', '.', '.', '.', '.', '.'],\n",
       "       ['.', '.', '.', '.', '.', '.', '.']], dtype='<U9')"
      ]
     },
     "execution_count": 3,
     "metadata": {},
     "output_type": "execute_result"
    }
   ],
   "source": [
    "import numpy as np\n",
    "board_state = np.full((6, 7), \".\", dtype=\"<U9\")\n",
    "board_state"
   ]
  },
  {
   "cell_type": "code",
   "execution_count": 1,
   "metadata": {},
   "outputs": [
    {
     "ename": "NameError",
     "evalue": "name 'Fore' is not defined",
     "output_type": "error",
     "traceback": [
      "\u001b[0;31m---------------------------------------------------------------------------\u001b[0m",
      "\u001b[0;31mNameError\u001b[0m                                 Traceback (most recent call last)",
      "Cell \u001b[0;32mIn[1], line 3\u001b[0m\n\u001b[1;32m      1\u001b[0m \u001b[38;5;28;01mfrom\u001b[39;00m \u001b[38;5;21;01mtabulate\u001b[39;00m \u001b[38;5;28;01mimport\u001b[39;00m tabulate\n\u001b[0;32m----> 3\u001b[0m red_token \u001b[38;5;241m=\u001b[39m Fore\u001b[38;5;241m.\u001b[39mRED \u001b[38;5;241m+\u001b[39m \u001b[38;5;124m'\u001b[39m\u001b[38;5;124mO\u001b[39m\u001b[38;5;124m'\u001b[39m \u001b[38;5;241m+\u001b[39m Style\u001b[38;5;241m.\u001b[39mRESET_ALL\n\u001b[1;32m      4\u001b[0m blue_token \u001b[38;5;241m=\u001b[39m Fore\u001b[38;5;241m.\u001b[39mBLUE \u001b[38;5;241m+\u001b[39m \u001b[38;5;124m'\u001b[39m\u001b[38;5;124mO\u001b[39m\u001b[38;5;124m'\u001b[39m \u001b[38;5;241m+\u001b[39m Style\u001b[38;5;241m.\u001b[39mRESET_ALL\n\u001b[1;32m      6\u001b[0m board \u001b[38;5;241m=\u001b[39m [\n\u001b[1;32m      7\u001b[0m     [\u001b[38;5;124m'\u001b[39m\u001b[38;5;124m.\u001b[39m\u001b[38;5;124m'\u001b[39m, \u001b[38;5;124m'\u001b[39m\u001b[38;5;124m.\u001b[39m\u001b[38;5;124m'\u001b[39m, \u001b[38;5;124m'\u001b[39m\u001b[38;5;124m.\u001b[39m\u001b[38;5;124m'\u001b[39m, \u001b[38;5;124m'\u001b[39m\u001b[38;5;124m.\u001b[39m\u001b[38;5;124m'\u001b[39m, \u001b[38;5;124m'\u001b[39m\u001b[38;5;124m.\u001b[39m\u001b[38;5;124m'\u001b[39m, \u001b[38;5;124m'\u001b[39m\u001b[38;5;124m.\u001b[39m\u001b[38;5;124m'\u001b[39m, \u001b[38;5;124m'\u001b[39m\u001b[38;5;124m.\u001b[39m\u001b[38;5;124m'\u001b[39m],\n\u001b[1;32m      8\u001b[0m     [\u001b[38;5;124m'\u001b[39m\u001b[38;5;124m.\u001b[39m\u001b[38;5;124m'\u001b[39m, \u001b[38;5;124m'\u001b[39m\u001b[38;5;124m.\u001b[39m\u001b[38;5;124m'\u001b[39m, \u001b[38;5;124m'\u001b[39m\u001b[38;5;124m.\u001b[39m\u001b[38;5;124m'\u001b[39m, \u001b[38;5;124m'\u001b[39m\u001b[38;5;124m.\u001b[39m\u001b[38;5;124m'\u001b[39m, \u001b[38;5;124m'\u001b[39m\u001b[38;5;124m.\u001b[39m\u001b[38;5;124m'\u001b[39m, \u001b[38;5;124m'\u001b[39m\u001b[38;5;124m.\u001b[39m\u001b[38;5;124m'\u001b[39m, \u001b[38;5;124m'\u001b[39m\u001b[38;5;124m.\u001b[39m\u001b[38;5;124m'\u001b[39m],\n\u001b[0;32m   (...)\u001b[0m\n\u001b[1;32m     12\u001b[0m     [\u001b[38;5;124m'\u001b[39m\u001b[38;5;124m.\u001b[39m\u001b[38;5;124m'\u001b[39m, \u001b[38;5;124m'\u001b[39m\u001b[38;5;124m.\u001b[39m\u001b[38;5;124m'\u001b[39m, \u001b[38;5;124m'\u001b[39m\u001b[38;5;124m.\u001b[39m\u001b[38;5;124m'\u001b[39m, blue_token, \u001b[38;5;124m'\u001b[39m\u001b[38;5;124m.\u001b[39m\u001b[38;5;124m'\u001b[39m, \u001b[38;5;124m'\u001b[39m\u001b[38;5;124m.\u001b[39m\u001b[38;5;124m'\u001b[39m, \u001b[38;5;124m'\u001b[39m\u001b[38;5;124m.\u001b[39m\u001b[38;5;124m'\u001b[39m],\n\u001b[1;32m     13\u001b[0m ]\n",
      "\u001b[0;31mNameError\u001b[0m: name 'Fore' is not defined"
     ]
    }
   ],
   "source": [
    "from tabulate import tabulate\n",
    "from colorama import Fore, Style\n",
    "\n",
    "\n",
    "red_token = Fore.RED + 'O' + Style.RESET_ALL\n",
    "blue_token = Fore.BLUE + 'O' + Style.RESET_ALL\n",
    "\n",
    "board = [\n",
    "    ['.', '.', '.', '.', '.', '.', '.'],\n",
    "    ['.', '.', '.', '.', '.', '.', '.'],\n",
    "    ['.', '.', '.', red_token, '.', '.', '.'],\n",
    "    ['.', '.', '.', '.', '.', '.', '.'],\n",
    "    ['.', '.', '.', '.', '.', '.', '.'],\n",
    "    ['.', '.', '.', blue_token, '.', '.', '.'],\n",
    "]\n",
    "\n",
    "print(tabulate(board, tablefmt=\"grid\"))"
   ]
  },
  {
   "cell_type": "code",
   "execution_count": 20,
   "metadata": {},
   "outputs": [
    {
     "data": {
      "text/html": [
       "<pre style=\"white-space:pre;overflow-x:auto;line-height:normal;font-family:Menlo,'DejaVu Sans Mono',consolas,'Courier New',monospace\"><span style=\"font-style: italic\">           Connect Four           </span>\n",
       "┏━━━━━━━━━━┳━━━━━━━━━━┳━━━━━━━━━━┓\n",
       "┃<span style=\"font-weight: bold\"> Column 1 </span>┃<span style=\"font-weight: bold\"> Column 2 </span>┃<span style=\"font-weight: bold\"> Column 3 </span>┃\n",
       "┡━━━━━━━━━━╇━━━━━━━━━━╇━━━━━━━━━━┩\n",
       "│    X     │    O     │    X     │\n",
       "│    O     │    X     │    O     │\n",
       "│    X     │    O     │    X     │\n",
       "└──────────┴──────────┴──────────┘\n",
       "</pre>\n"
      ],
      "text/plain": [
       "\u001b[3m           Connect Four           \u001b[0m\n",
       "┏━━━━━━━━━━┳━━━━━━━━━━┳━━━━━━━━━━┓\n",
       "┃\u001b[1m \u001b[0m\u001b[1mColumn 1\u001b[0m\u001b[1m \u001b[0m┃\u001b[1m \u001b[0m\u001b[1mColumn 2\u001b[0m\u001b[1m \u001b[0m┃\u001b[1m \u001b[0m\u001b[1mColumn 3\u001b[0m\u001b[1m \u001b[0m┃\n",
       "┡━━━━━━━━━━╇━━━━━━━━━━╇━━━━━━━━━━┩\n",
       "│    X     │    O     │    X     │\n",
       "│    O     │    X     │    O     │\n",
       "│    X     │    O     │    X     │\n",
       "└──────────┴──────────┴──────────┘\n"
      ]
     },
     "metadata": {},
     "output_type": "display_data"
    }
   ],
   "source": [
    "from rich.console import Console\n",
    "from rich.table import Table\n",
    "\n",
    "console = Console()\n",
    "\n",
    "table = Table(title=\"Connect Four\")\n",
    "\n",
    "table.add_column(\"Column 1\", justify=\"center\")\n",
    "table.add_column(\"Column 2\", justify=\"center\")\n",
    "table.add_column(\"Column 3\", justify=\"center\")\n",
    "\n",
    "table.add_row(\"X\", \"O\", \"X\")\n",
    "table.add_row(\"O\", \"X\", \"O\")\n",
    "table.add_row(\"X\", \"O\", \"X\")\n",
    "\n",
    "console.print(table)"
   ]
  },
  {
   "cell_type": "code",
   "execution_count": 22,
   "metadata": {},
   "outputs": [
    {
     "name": "stdout",
     "output_type": "stream",
     "text": [
      "\u001b[31mO\u001b[0m\n"
     ]
    }
   ],
   "source": [
    "from colorama import Fore, Style\n",
    "\n",
    "print(Fore.RED + 'O' + Style.RESET_ALL)"
   ]
  },
  {
   "cell_type": "code",
   "execution_count": 48,
   "metadata": {},
   "outputs": [
    {
     "data": {
      "text/plain": [
       "[0, 1, 2, 3]"
      ]
     },
     "execution_count": 48,
     "metadata": {},
     "output_type": "execute_result"
    }
   ],
   "source": [
    "cols = 7\n",
    "rows = 6\n",
    "col = 2\n",
    "row = 3\n",
    "\n",
    "candidate_range = [x for x in range(col-3, col+4) if x in range(cols-3)]\n",
    "candidate_range"
   ]
  },
  {
   "cell_type": "code",
   "execution_count": 46,
   "metadata": {},
   "outputs": [
    {
     "data": {
      "text/plain": [
       "[0, 1, 2, 3]"
      ]
     },
     "execution_count": 46,
     "metadata": {},
     "output_type": "execute_result"
    }
   ],
   "source": [
    "[x for x in range(cols-3)]"
   ]
  },
  {
   "cell_type": "code",
   "execution_count": 45,
   "metadata": {},
   "outputs": [
    {
     "data": {
      "text/plain": [
       "[-1, 0, 1, 2, 3, 4, 5]"
      ]
     },
     "execution_count": 45,
     "metadata": {},
     "output_type": "execute_result"
    }
   ],
   "source": [
    "[x for x in range(col-3, col+4)]"
   ]
  },
  {
   "cell_type": "code",
   "execution_count": 49,
   "metadata": {},
   "outputs": [
    {
     "name": "stdout",
     "output_type": "stream",
     "text": [
      "[0, 1, 2, 3]\n",
      "[0, 1, 2]\n"
     ]
    }
   ],
   "source": [
    "candidate_cols = [x for x in range(col-3, col+4) if x in range(cols-3)]\n",
    "candidate_rows = [x for x in range(row-3, row+4) if x in range(rows-3)]\n",
    "print(candidate_cols)\n",
    "print(candidate_rows)"
   ]
  },
  {
   "cell_type": "code",
   "execution_count": 50,
   "metadata": {},
   "outputs": [
    {
     "data": {
      "text/plain": [
       "[3, 4, 5]"
      ]
     },
     "execution_count": 50,
     "metadata": {},
     "output_type": "execute_result"
    }
   ],
   "source": [
    "candidate_rows = [x for x in range(row-3, row+4) if x in range(3, rows)]\n",
    "candidate_rows"
   ]
  },
  {
   "cell_type": "code",
   "execution_count": 65,
   "metadata": {},
   "outputs": [
    {
     "name": "stdout",
     "output_type": "stream",
     "text": [
      "> \u001b[0;32m/var/folders/bh/7xmdtq7x4h96jq9trxw_n4640000gn/T/ipykernel_35879/3083954188.py\u001b[0m(55)\u001b[0;36mcheck_game_over\u001b[0;34m()\u001b[0m\n",
      "\u001b[0;32m     54 \u001b[0;31m        \u001b[0;31m# Check horizontal, check if row has 4 in a row\u001b[0m\u001b[0;34m\u001b[0m\u001b[0;34m\u001b[0m\u001b[0m\n",
      "\u001b[0m\u001b[0;32m---> 55 \u001b[0;31m        \u001b[0;32mfor\u001b[0m \u001b[0mcc\u001b[0m \u001b[0;32min\u001b[0m \u001b[0mrange\u001b[0m\u001b[0;34m(\u001b[0m\u001b[0mself\u001b[0m\u001b[0;34m.\u001b[0m\u001b[0mcols\u001b[0m\u001b[0;34m-\u001b[0m\u001b[0;36m3\u001b[0m\u001b[0;34m)\u001b[0m\u001b[0;34m:\u001b[0m\u001b[0;34m\u001b[0m\u001b[0;34m\u001b[0m\u001b[0m\n",
      "\u001b[0m\u001b[0;32m     56 \u001b[0;31m            \u001b[0;32mif\u001b[0m \u001b[0mself\u001b[0m\u001b[0;34m.\u001b[0m\u001b[0mboard_state\u001b[0m\u001b[0;34m[\u001b[0m\u001b[0mrow\u001b[0m\u001b[0;34m]\u001b[0m\u001b[0;34m[\u001b[0m\u001b[0mcc\u001b[0m\u001b[0;34m]\u001b[0m \u001b[0;34m==\u001b[0m \u001b[0mplayer\u001b[0m \u001b[0;32mand\u001b[0m \u001b[0mself\u001b[0m\u001b[0;34m.\u001b[0m\u001b[0mboard_state\u001b[0m\u001b[0;34m[\u001b[0m\u001b[0mrow\u001b[0m\u001b[0;34m]\u001b[0m\u001b[0;34m[\u001b[0m\u001b[0mcc\u001b[0m\u001b[0;34m+\u001b[0m\u001b[0;36m1\u001b[0m\u001b[0;34m]\u001b[0m \u001b[0;34m==\u001b[0m \u001b[0mplayer\u001b[0m \u001b[0;32mand\u001b[0m \u001b[0mself\u001b[0m\u001b[0;34m.\u001b[0m\u001b[0mboard_state\u001b[0m\u001b[0;34m[\u001b[0m\u001b[0mrow\u001b[0m\u001b[0;34m]\u001b[0m\u001b[0;34m[\u001b[0m\u001b[0mcc\u001b[0m\u001b[0;34m+\u001b[0m\u001b[0;36m2\u001b[0m\u001b[0;34m]\u001b[0m \u001b[0;34m==\u001b[0m \u001b[0mplayer\u001b[0m \u001b[0;32mand\u001b[0m \u001b[0mboard\u001b[0m\u001b[0;34m[\u001b[0m\u001b[0mrow\u001b[0m\u001b[0;34m]\u001b[0m\u001b[0;34m[\u001b[0m\u001b[0mcc\u001b[0m\u001b[0;34m+\u001b[0m\u001b[0;36m3\u001b[0m\u001b[0;34m]\u001b[0m \u001b[0;34m==\u001b[0m \u001b[0mplayer\u001b[0m\u001b[0;34m:\u001b[0m\u001b[0;34m\u001b[0m\u001b[0;34m\u001b[0m\u001b[0m\n",
      "\u001b[0m\n",
      "> \u001b[0;32m/var/folders/bh/7xmdtq7x4h96jq9trxw_n4640000gn/T/ipykernel_35879/3083954188.py\u001b[0m(56)\u001b[0;36mcheck_game_over\u001b[0;34m()\u001b[0m\n",
      "\u001b[0;32m     55 \u001b[0;31m        \u001b[0;32mfor\u001b[0m \u001b[0mcc\u001b[0m \u001b[0;32min\u001b[0m \u001b[0mrange\u001b[0m\u001b[0;34m(\u001b[0m\u001b[0mself\u001b[0m\u001b[0;34m.\u001b[0m\u001b[0mcols\u001b[0m\u001b[0;34m-\u001b[0m\u001b[0;36m3\u001b[0m\u001b[0;34m)\u001b[0m\u001b[0;34m:\u001b[0m\u001b[0;34m\u001b[0m\u001b[0;34m\u001b[0m\u001b[0m\n",
      "\u001b[0m\u001b[0;32m---> 56 \u001b[0;31m            \u001b[0;32mif\u001b[0m \u001b[0mself\u001b[0m\u001b[0;34m.\u001b[0m\u001b[0mboard_state\u001b[0m\u001b[0;34m[\u001b[0m\u001b[0mrow\u001b[0m\u001b[0;34m]\u001b[0m\u001b[0;34m[\u001b[0m\u001b[0mcc\u001b[0m\u001b[0;34m]\u001b[0m \u001b[0;34m==\u001b[0m \u001b[0mplayer\u001b[0m \u001b[0;32mand\u001b[0m \u001b[0mself\u001b[0m\u001b[0;34m.\u001b[0m\u001b[0mboard_state\u001b[0m\u001b[0;34m[\u001b[0m\u001b[0mrow\u001b[0m\u001b[0;34m]\u001b[0m\u001b[0;34m[\u001b[0m\u001b[0mcc\u001b[0m\u001b[0;34m+\u001b[0m\u001b[0;36m1\u001b[0m\u001b[0;34m]\u001b[0m \u001b[0;34m==\u001b[0m \u001b[0mplayer\u001b[0m \u001b[0;32mand\u001b[0m \u001b[0mself\u001b[0m\u001b[0;34m.\u001b[0m\u001b[0mboard_state\u001b[0m\u001b[0;34m[\u001b[0m\u001b[0mrow\u001b[0m\u001b[0;34m]\u001b[0m\u001b[0;34m[\u001b[0m\u001b[0mcc\u001b[0m\u001b[0;34m+\u001b[0m\u001b[0;36m2\u001b[0m\u001b[0;34m]\u001b[0m \u001b[0;34m==\u001b[0m \u001b[0mplayer\u001b[0m \u001b[0;32mand\u001b[0m \u001b[0mboard\u001b[0m\u001b[0;34m[\u001b[0m\u001b[0mrow\u001b[0m\u001b[0;34m]\u001b[0m\u001b[0;34m[\u001b[0m\u001b[0mcc\u001b[0m\u001b[0;34m+\u001b[0m\u001b[0;36m3\u001b[0m\u001b[0;34m]\u001b[0m \u001b[0;34m==\u001b[0m \u001b[0mplayer\u001b[0m\u001b[0;34m:\u001b[0m\u001b[0;34m\u001b[0m\u001b[0;34m\u001b[0m\u001b[0m\n",
      "\u001b[0m\u001b[0;32m     57 \u001b[0;31m                \u001b[0;32mreturn\u001b[0m \u001b[0;32mTrue\u001b[0m\u001b[0;34m\u001b[0m\u001b[0;34m\u001b[0m\u001b[0m\n",
      "\u001b[0m\n",
      "False\n",
      "array([1., 0., 0., 0., 0., 0., 0.])\n",
      "1.0\n",
      "1\n",
      "True\n",
      "True\n",
      "False\n",
      "False\n",
      "False\n"
     ]
    }
   ],
   "source": [
    "# My version of connect four\n",
    "import numpy as np\n",
    "\n",
    "class connect4board():\n",
    "    def __init__(self, rows=6, cols=7):\n",
    "        # Init Connect4 game board\n",
    "        self.rows = rows\n",
    "        self.cols = cols\n",
    "        self.board_state = np.zeros((rows, cols))\n",
    "        self.no_winner = True\n",
    "    \n",
    "    def show(self):\n",
    "        # Show current board state\n",
    "        print(tabulate(np.flip(self.board_state, 0), tablefmt=\"grid\"))\n",
    "\n",
    "    def valid_move(self, row, col):\n",
    "        valid = True\n",
    "        # Check whether move is valid\n",
    "        if not col in range(self.cols):\n",
    "            valid = False\n",
    "        \n",
    "        if not row in range(self.rows):\n",
    "            valid = False\n",
    "\n",
    "        if valid == False:\n",
    "            raise ValueError#, f\"{col} is not within range {0} - {self.cols - 1} or {row} is not within range {0} - {self.rows - 1}\"\n",
    "        else:\n",
    "            return True\n",
    "        \n",
    "    def get_rows(self, col):\n",
    "        # Check which rows are available for column\n",
    "        for r in range(self.rows):\n",
    "            if self.board_state[r][col] == 0:\n",
    "                return r\n",
    "\n",
    "    def play_piece(self, player, col):\n",
    "        # Player plays a piece\n",
    "        row = self.get_rows(col)\n",
    "        if self.valid_move(row, col):\n",
    "            self.board_state[row, col] = player  # player makes move\n",
    "\n",
    "        # Check if that move won the game\n",
    "        winner = self.check_game_over(player, row, col)\n",
    "        import ipdb; ipdb.set_trace()\n",
    "        if winner:\n",
    "            print(f'Game over, player {player} wins!')\n",
    "            self.no_winner = False\n",
    "        \n",
    "\n",
    "    def check_game_over(self, player, row, col):\n",
    "        import ipdb; ipdb.set_trace()\n",
    "        # Check board state to see if game is over\n",
    "\n",
    "        # Check horizontal, check if row has 4 in a row\n",
    "        for cc in range(self.cols-3):\n",
    "            if self.board_state[row][cc] == player and self.board_state[row][cc+1] == player and self.board_state[row][cc+2] == player and board[row][cc+3] == player:\n",
    "                return True\n",
    "        \n",
    "        # Check vertical, check if col has 4 in a row\n",
    "        for rr in range(self.rows-3):\n",
    "            if self.board_state[rr][col] == player and self.board_state[rr+1][col] == player and self.board_state[rr+2][col] == player and board[rr+3][col] == player:\n",
    "                return True\n",
    "        \n",
    "        # Check right diagonal, check if diag has 4 in a row\n",
    "        for cc in range(self.cols-3):\n",
    "            for rr in range(self.rows-3):\n",
    "                if self.board_state[rr][cc] == player and self.board_state[rr+1][cc+1] == player and self.board_state[rr+2][cc+2] == player and board[rr+3][cc+3] == player:\n",
    "                    return True\n",
    "        \n",
    "        # Check left diagonal, check if left diag has 4 in a row\n",
    "        for cc in range(self.cols-3):\n",
    "            for rr in range(3, self.rows):\n",
    "                if self.board_state[rr][cc] == player and self.board_state[rr-1][cc+1] == player and self.board_state[rr-2][cc+2] == player and board[rr-3][cc+3] == player:\n",
    "                    return True\n",
    "        return False\n",
    "\n",
    "def play_connect4():\n",
    "    # Init empty board\n",
    "    game = connect4board()\n",
    "    inputs = [0, 6, 1, 6, 2, 6, 3]\n",
    "    while game.no_winner:  # no one has won yet\n",
    "        # Play a turn\n",
    "        # col = int(input(\"Player 1 Select a Column (0-6):\"))\n",
    "        for col in inputs:\n",
    "\n",
    "            game.play_piece(1, col)  # play piece for player 1\n",
    "            print(game.no_winner)\n",
    "            # game.check_game_over()  # check if game is over\n",
    "            game.show()\n",
    "                \n",
    "            col = int(input(\"Player 2 Select a Column (0-6):\"))\n",
    "            game.play_piece(2, col)  # play piece for player 2\n",
    "            print(game.no_winner)\n",
    "            # game.check_game_over()\n",
    "            game.show()  # Show board\n",
    "\n",
    "\n",
    "if __name__ == \"__main__\":\n",
    "    play_connect4()\n",
    "\n",
    "\n",
    "\n",
    "\n",
    "\n",
    "\n",
    "\n"
   ]
  },
  {
   "cell_type": "code",
   "execution_count": 56,
   "metadata": {},
   "outputs": [
    {
     "ename": "NameError",
     "evalue": "name 'self' is not defined",
     "output_type": "error",
     "traceback": [
      "\u001b[0;31m---------------------------------------------------------------------------\u001b[0m",
      "\u001b[0;31mNameError\u001b[0m                                 Traceback (most recent call last)",
      "Cell \u001b[0;32mIn[56], line 1\u001b[0m\n\u001b[0;32m----> 1\u001b[0m \u001b[38;5;28mself\u001b[39m\u001b[38;5;241m.\u001b[39mboard_state\n",
      "\u001b[0;31mNameError\u001b[0m: name 'self' is not defined"
     ]
    }
   ],
   "source": [
    "game = connect4board()\n",
    "game.board_state = "
   ]
  }
 ],
 "metadata": {
  "kernelspec": {
   "display_name": "Python 3",
   "language": "python",
   "name": "python3"
  },
  "language_info": {
   "codemirror_mode": {
    "name": "ipython",
    "version": 3
   },
   "file_extension": ".py",
   "mimetype": "text/x-python",
   "name": "python",
   "nbconvert_exporter": "python",
   "pygments_lexer": "ipython3",
   "version": "3.11.9"
  }
 },
 "nbformat": 4,
 "nbformat_minor": 2
}

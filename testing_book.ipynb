{
 "cells": [
  {
   "cell_type": "markdown",
   "metadata": {},
   "source": [
    "Write a program that prints out the numbers 1 to 100 (inclusive).\n",
    "If the number is divisible by 3, print Crackle instead of the number.\n",
    "If it's divisible by 5, print Pop. If it's divisible by both 3 and 5,\n",
    "print CracklePop."
   ]
  },
  {
   "cell_type": "code",
   "execution_count": 12,
   "metadata": {},
   "outputs": [],
   "source": [
    "# import pytest\n",
    "\n",
    "def cracklepop_determiner(number):\n",
    "    print_statement = ''\n",
    "    if number % 3 == 0: \n",
    "        print_statement = 'Crackle'\n",
    "\n",
    "    if number % 5 == 0:\n",
    "        print_statement = 'Pop'\n",
    "\n",
    "    if (number % 3 == 0) and (number % 5 == 0):\n",
    "        print_statement = 'CracklePop'\n",
    "\n",
    "    if print_statement == '':\n",
    "        print_statement = str(number)\n",
    "    return print_statement\n",
    "\n",
    "def cracklepop():\n",
    "    for ii in range(1,101):\n",
    "        print_statement = cracklepop_determiner(ii)\n",
    "        print(print_statement)\n",
    "\n",
    "def cracklepop_test():\n",
    "\n",
    "    assert cracklepop_determiner(3) == 'Crackle'\n",
    "\n",
    "    assert cracklepop_determiner(5) == 'Pop'\n",
    "\n",
    "    assert cracklepop_determiner(3*5) == 'CracklePop'\n",
    "\n",
    "    assert cracklepop_determiner(1) == '1'\n",
    "\n",
    "\n",
    "\n",
    "# cracklepop()\n",
    "cracklepop_test()"
   ]
  },
  {
   "cell_type": "code",
   "execution_count": 14,
   "metadata": {},
   "outputs": [
    {
     "ename": "AssertionError",
     "evalue": "",
     "output_type": "error",
     "traceback": [
      "\u001b[0;31m---------------------------------------------------------------------------\u001b[0m",
      "\u001b[0;31mAssertionError\u001b[0m                            Traceback (most recent call last)",
      "Cell \u001b[0;32mIn[14], line 1\u001b[0m\n\u001b[0;32m----> 1\u001b[0m \u001b[38;5;28;01massert\u001b[39;00m cracklepop_determiner(\u001b[38;5;241m3\u001b[39m) \u001b[38;5;241m==\u001b[39m \u001b[38;5;124m'\u001b[39m\u001b[38;5;124mCrackl\u001b[39m\u001b[38;5;124m'\u001b[39m\n",
      "\u001b[0;31mAssertionError\u001b[0m: "
     ]
    }
   ],
   "source": []
  }
 ],
 "metadata": {
  "kernelspec": {
   "display_name": "Python 3",
   "language": "python",
   "name": "python3"
  },
  "language_info": {
   "codemirror_mode": {
    "name": "ipython",
    "version": 3
   },
   "file_extension": ".py",
   "mimetype": "text/x-python",
   "name": "python",
   "nbconvert_exporter": "python",
   "pygments_lexer": "ipython3",
   "version": "3.11.9"
  }
 },
 "nbformat": 4,
 "nbformat_minor": 2
}

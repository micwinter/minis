{
 "cells": [
  {
   "cell_type": "code",
   "execution_count": null,
   "metadata": {},
   "outputs": [],
   "source": [
    "\n",
    "row = 0\n",
    "col = 0\n",
    "\n",
    "\n",
    "neighbor_coordinates = []\n",
    "for n_row in range(row-1, row+2):\n",
    "    for n_col in range(col-1, col+2):\n",
    "        if n_row == row and n_col == col:\n",
    "            continue\n",
    "        elif n_row < 0 or n_col < 0:\n",
    "            continue\n",
    "\n",
    "        neighbor_coordinates.append([n_row, n_col])\n",
    "\n",
    "neighbor_coordinates\n",
    "life_states = [current_board_state[rr, cc] for (rr, cc) in neighbor_coordinates]\n",
    "\n",
    "life_counts = (life_states.count('O'), life_states.count('_'))\n",
    "\n",
    "life_counts"
   ]
  },
  {
   "cell_type": "code",
   "execution_count": null,
   "metadata": {},
   "outputs": [],
   "source": [
    "import numpy as np\n",
    "\n",
    "num_initial_states = 100\n",
    "initial_states = np.random.rand(10, 10)\n",
    "initial_states[initial_states < 0.4] = 1\n",
    "initial_states[initial_states!= 1 ] = 0\n",
    "\n",
    "rows = 10\n",
    "cols = 10\n",
    "current_board_state = np.full((rows, cols), '_', dtype=\"<U9\")\n",
    "\n",
    "# Now apply to board_state\n",
    "for row in range(rows):\n",
    "    for col in range(cols):\n",
    "        if initial_states[row, col] == 1:\n",
    "            current_board_state[row, col] = \"O\"\n",
    "        else:\n",
    "            current_board_state[row, col] = \"_\""
   ]
  },
  {
   "cell_type": "code",
   "execution_count": null,
   "metadata": {},
   "outputs": [],
   "source": [
    "initial_states"
   ]
  }
 ],
 "metadata": {
  "kernelspec": {
   "display_name": "minis",
   "language": "python",
   "name": "python3"
  },
  "language_info": {
   "codemirror_mode": {
    "name": "ipython",
    "version": 3
   },
   "file_extension": ".py",
   "mimetype": "text/x-python",
   "name": "python",
   "nbconvert_exporter": "python",
   "pygments_lexer": "ipython3",
   "version": "3.11.9"
  }
 },
 "nbformat": 4,
 "nbformat_minor": 2
}
